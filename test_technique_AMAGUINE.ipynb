{
  "nbformat": 4,
  "nbformat_minor": 0,
  "metadata": {
    "colab": {
      "provenance": []
    },
    "kernelspec": {
      "name": "python3",
      "display_name": "Python 3"
    },
    "language_info": {
      "name": "python"
    }
  },
  "cells": [
    {
      "cell_type": "code",
      "execution_count": 91,
      "metadata": {
        "id": "0KzUv5wcF299"
      },
      "outputs": [],
      "source": [
        "# Importation des bibliothèques nécessaires\n",
        "import pandas as pd\n",
        "import matplotlib.pyplot as plt\n",
        "import seaborn as sns\n",
        "import numpy as np\n",
        "from sklearn.model_selection import train_test_split\n",
        "from sklearn.ensemble import RandomForestClassifier\n",
        "from xgboost import XGBClassifier\n",
        "import xgboost as xgb\n",
        "from sklearn.model_selection import GridSearchCV\n",
        "from sklearn.metrics import confusion_matrix\n",
        "from sklearn.metrics import classification_report\n",
        "from imblearn.over_sampling import SMOTE\n",
        "from sklearn.metrics import roc_auc_score\n",
        "\n"
      ]
    },
    {
      "cell_type": "markdown",
      "source": [
        "#1. Exploration des données"
      ],
      "metadata": {
        "id": "J5l7xHsFQOHn"
      }
    },
    {
      "cell_type": "code",
      "source": [
        "# 1. Chargement des données\n",
        "data = pd.read_excel('/content/test_technique_dataset.xlsx')\n",
        "data.shape"
      ],
      "metadata": {
        "colab": {
          "base_uri": "https://localhost:8080/"
        },
        "id": "yqUsnAUqF-GJ",
        "outputId": "7180151d-973e-4303-944a-3a893fc32864"
      },
      "execution_count": 57,
      "outputs": [
        {
          "output_type": "execute_result",
          "data": {
            "text/plain": [
              "(20830, 9)"
            ]
          },
          "metadata": {},
          "execution_count": 57
        }
      ]
    },
    {
      "cell_type": "code",
      "source": [
        "# 2. Aperçu des données\n",
        "# Affichage des premières lignes du dataset pour avoir une idée générale de ce qu'il contient\n",
        "print(data.head())"
      ],
      "metadata": {
        "colab": {
          "base_uri": "https://localhost:8080/"
        },
        "id": "U0-Vq-WnGHNy",
        "outputId": "21b698cf-d6bb-4c15-b1f3-290285c33cf0"
      },
      "execution_count": 58,
      "outputs": [
        {
          "output_type": "stream",
          "name": "stdout",
          "text": [
            "   id_client job_category  service_channel nb_internet_products  \\\n",
            "0          1         8690              PRO                    2   \n",
            "1          2         8690              PRO                    1   \n",
            "2          3        7022Z  BUREAU DE POSTE                    1   \n",
            "3          4        4399C  BUREAU DE POSTE                    0   \n",
            "4          5        9609Z              PRO                    2   \n",
            "\n",
            "   contract_type risk_of_credit      credit_flux  annual_flux  target  \n",
            "0              1              8  0 a 70% de flux     20903.81       0  \n",
            "1              1              7  0 a 70% de flux      5192.50       0  \n",
            "2              1              6      Pas de flux          NaN       0  \n",
            "3              1           CESS  0 a 70% de flux        33.40       0  \n",
            "4              1              7  0 a 70% de flux     13910.00       0  \n"
          ]
        }
      ]
    },
    {
      "cell_type": "code",
      "source": [
        "# 3. Informations générales sur les colonnes\n",
        "# Cela nous donne une idée des types de données, du nombre de valeurs non nulles, etc.\n",
        "print(data.info())"
      ],
      "metadata": {
        "colab": {
          "base_uri": "https://localhost:8080/"
        },
        "id": "zm1Q5rQQGK9x",
        "outputId": "1c766495-ba36-4af2-9a89-24135b625e4a"
      },
      "execution_count": 59,
      "outputs": [
        {
          "output_type": "stream",
          "name": "stdout",
          "text": [
            "<class 'pandas.core.frame.DataFrame'>\n",
            "RangeIndex: 20830 entries, 0 to 20829\n",
            "Data columns (total 9 columns):\n",
            " #   Column                Non-Null Count  Dtype  \n",
            "---  ------                --------------  -----  \n",
            " 0   id_client             20830 non-null  int64  \n",
            " 1   job_category          20018 non-null  object \n",
            " 2   service_channel       20830 non-null  object \n",
            " 3   nb_internet_products  20829 non-null  object \n",
            " 4   contract_type         20830 non-null  int64  \n",
            " 5   risk_of_credit        16063 non-null  object \n",
            " 6   credit_flux           20829 non-null  object \n",
            " 7   annual_flux           13346 non-null  float64\n",
            " 8   target                20830 non-null  int64  \n",
            "dtypes: float64(1), int64(3), object(5)\n",
            "memory usage: 1.4+ MB\n",
            "None\n"
          ]
        }
      ]
    },
    {
      "cell_type": "code",
      "source": [
        "# 4. Statistiques descriptives\n",
        "# Cela nous donne des informations comme la moyenne, l'écart-type, le min/max, etc. pour chaque colonne numérique\n",
        "print(data.describe())"
      ],
      "metadata": {
        "colab": {
          "base_uri": "https://localhost:8080/"
        },
        "id": "hiv4VZTeGSnv",
        "outputId": "04c75822-fe5f-4be5-88bf-93a44ec231f0"
      },
      "execution_count": 60,
      "outputs": [
        {
          "output_type": "stream",
          "name": "stdout",
          "text": [
            "          id_client  contract_type   annual_flux        target\n",
            "count  20830.000000   20830.000000  1.334600e+04  20830.000000\n",
            "mean   10415.500000       1.095439  9.990473e+05      0.088910\n",
            "std     6013.247389       6.428571  3.354726e+07      0.284621\n",
            "min        1.000000       0.000000  9.000000e-02      0.000000\n",
            "25%     5208.250000       1.000000  3.899445e+03      0.000000\n",
            "50%    10415.500000       1.000000  1.138912e+04      0.000000\n",
            "75%    15622.750000       1.000000  3.193261e+04      0.000000\n",
            "max    20830.000000     682.000000  2.272004e+09      1.000000\n"
          ]
        }
      ]
    },
    {
      "cell_type": "code",
      "source": [
        "# 5. Vérification des valeurs manquantes\n",
        "# Ceci nous aidera à décider comment traiter ces valeurs plus tard\n",
        "print(data.isnull().sum())"
      ],
      "metadata": {
        "colab": {
          "base_uri": "https://localhost:8080/"
        },
        "id": "7TAfproxGUYJ",
        "outputId": "006b8c11-00cc-4681-d967-603e3fe18523"
      },
      "execution_count": 61,
      "outputs": [
        {
          "output_type": "stream",
          "name": "stdout",
          "text": [
            "id_client                  0\n",
            "job_category             812\n",
            "service_channel            0\n",
            "nb_internet_products       1\n",
            "contract_type              0\n",
            "risk_of_credit          4767\n",
            "credit_flux                1\n",
            "annual_flux             7484\n",
            "target                     0\n",
            "dtype: int64\n"
          ]
        }
      ]
    },
    {
      "cell_type": "code",
      "source": [
        "# 6. Exploration des variables catégorielles\n",
        "print(data['job_category'].value_counts())"
      ],
      "metadata": {
        "colab": {
          "base_uri": "https://localhost:8080/"
        },
        "id": "jA0kzbYpGWm2",
        "outputId": "165f28a6-fd4f-4818-b428-e04ed36cd575"
      },
      "execution_count": 62,
      "outputs": [
        {
          "output_type": "stream",
          "name": "stdout",
          "text": [
            "6820B      1485\n",
            "8690        854\n",
            "7022Z       487\n",
            "8690E       468\n",
            "9499Z       416\n",
            "           ... \n",
            "6530Z         1\n",
            "2016Z         1\n",
            "1395Z         1\n",
            "4619A         1\n",
            "inconnu       1\n",
            "Name: job_category, Length: 600, dtype: int64\n"
          ]
        }
      ]
    },
    {
      "cell_type": "code",
      "source": [
        "# 7. Visualisations\n",
        "\n",
        "# Distribution de la variable 'annual_flux'\n",
        "# Utiliser une échelle logarithmique pour mieux visualiser\n",
        "data['log_annual_flux'] = data['annual_flux'].apply(lambda x: 0 if x == 0 else np.log(x))\n",
        "sns.histplot(data['log_annual_flux'], kde=True)\n",
        "plt.title('Logarithmic Distribution of Annual Flux')\n",
        "plt.show()"
      ],
      "metadata": {
        "colab": {
          "base_uri": "https://localhost:8080/",
          "height": 472
        },
        "id": "TbKTbWuWGY5v",
        "outputId": "bc0ccbda-a03d-43e3-b760-52d5243dd017"
      },
      "execution_count": 63,
      "outputs": [
        {
          "output_type": "display_data",
          "data": {
            "text/plain": [
              "<Figure size 640x480 with 1 Axes>"
            ],
            "image/png": "[encoded data removed]"
          },
          "metadata": {}
        }
      ]
    },
    {
      "cell_type": "code",
      "source": [
        "# Supprimons la colonne log_annual_flux pour garder le jeu de données original propre.\n",
        "data.drop('log_annual_flux', axis=1, inplace=True)"
      ],
      "metadata": {
        "id": "juWPac8SGbNL"
      },
      "execution_count": 64,
      "outputs": []
    },
    {
      "cell_type": "code",
      "source": [
        "# Matrice de corrélation\n",
        "corr_matrix = data.corr()\n",
        "sns.heatmap(corr_matrix, annot=True, cmap='coolwarm')\n",
        "plt.title('Correlation Matrix')\n",
        "plt.show()"
      ],
      "metadata": {
        "colab": {
          "base_uri": "https://localhost:8080/",
          "height": 507
        },
        "id": "-TQxKswgGdlV",
        "outputId": "0d7735be-da8e-4a4e-ad34-a74fea469e97"
      },
      "execution_count": 65,
      "outputs": [
        {
          "output_type": "stream",
          "name": "stderr",
          "text": [
            "<ipython-input-65-db2cd3555f8c>:2: FutureWarning: The default value of numeric_only in DataFrame.corr is deprecated. In a future version, it will default to False. Select only valid columns or specify the value of numeric_only to silence this warning.\n",
            "  corr_matrix = data.corr()\n"
          ]
        },
        {
          "output_type": "display_data",
          "data": {
            "text/plain": [
              "<Figure size 640x480 with 2 Axes>"
            ],
            "image/png": "[encoded data removed]"
          },
          "metadata": {}
        }
      ]
    },
    {
      "cell_type": "markdown",
      "source": [
        "# 2. Analyse des données\n"
      ],
      "metadata": {
        "id": "75m-KS9QQYNR"
      }
    },
    {
      "cell_type": "code",
      "source": [
        "# 1. Traitement des valeurs manquantes\n",
        "# Remplacer les valeurs manquantes des colonnes numériques par la médiane\n",
        "numerical_cols = data.select_dtypes(include=[np.number]).columns.tolist()\n",
        "for col in numerical_cols:\n",
        "    data[col].fillna(data[col].median(), inplace=True)"
      ],
      "metadata": {
        "id": "_z04e5mDGgS1"
      },
      "execution_count": 66,
      "outputs": []
    },
    {
      "cell_type": "code",
      "source": [
        "# Vérification\n",
        "print(data.isnull().sum())"
      ],
      "metadata": {
        "colab": {
          "base_uri": "https://localhost:8080/"
        },
        "id": "9Yka1uVCGkp0",
        "outputId": "04c518a1-b759-4d36-9ca8-aa5d84b3462b"
      },
      "execution_count": 67,
      "outputs": [
        {
          "output_type": "stream",
          "name": "stdout",
          "text": [
            "id_client                  0\n",
            "job_category             812\n",
            "service_channel            0\n",
            "nb_internet_products       1\n",
            "contract_type              0\n",
            "risk_of_credit          4767\n",
            "credit_flux                1\n",
            "annual_flux                0\n",
            "target                     0\n",
            "dtype: int64\n"
          ]
        }
      ]
    },
    {
      "cell_type": "code",
      "source": [
        "# Remplacer les valeurs manquantes des colonnes catégorielles par la mode\n",
        "categorical_cols = data.select_dtypes(include=[object]).columns.tolist()\n",
        "for col in categorical_cols:\n",
        "    data[col].fillna(data[col].mode()[0], inplace=True)"
      ],
      "metadata": {
        "id": "DvZUxvfuGnhm"
      },
      "execution_count": 68,
      "outputs": []
    },
    {
      "cell_type": "code",
      "source": [
        "# Vérification\n",
        "print(data.isnull().sum())\n",
        "data.dtypes"
      ],
      "metadata": {
        "colab": {
          "base_uri": "https://localhost:8080/"
        },
        "id": "Iz67pQ-oGp2r",
        "outputId": "cbd5b0ff-a963-429d-e008-1c08d97cdb59"
      },
      "execution_count": 69,
      "outputs": [
        {
          "output_type": "stream",
          "name": "stdout",
          "text": [
            "id_client               0\n",
            "job_category            0\n",
            "service_channel         0\n",
            "nb_internet_products    0\n",
            "contract_type           0\n",
            "risk_of_credit          0\n",
            "credit_flux             0\n",
            "annual_flux             0\n",
            "target                  0\n",
            "dtype: int64\n"
          ]
        },
        {
          "output_type": "execute_result",
          "data": {
            "text/plain": [
              "id_client                 int64\n",
              "job_category             object\n",
              "service_channel          object\n",
              "nb_internet_products     object\n",
              "contract_type             int64\n",
              "risk_of_credit           object\n",
              "credit_flux              object\n",
              "annual_flux             float64\n",
              "target                    int64\n",
              "dtype: object"
            ]
          },
          "metadata": {},
          "execution_count": 69
        }
      ]
    },
    {
      "cell_type": "code",
      "source": [
        "data['target'].value_counts()"
      ],
      "metadata": {
        "colab": {
          "base_uri": "https://localhost:8080/"
        },
        "id": "9W7YDpWnGtWs",
        "outputId": "1f28dfa5-e409-4ee9-8300-d15f491d79b4"
      },
      "execution_count": 70,
      "outputs": [
        {
          "output_type": "execute_result",
          "data": {
            "text/plain": [
              "0    18978\n",
              "1     1852\n",
              "Name: target, dtype: int64"
            ]
          },
          "metadata": {},
          "execution_count": 70
        }
      ]
    },
    {
      "cell_type": "code",
      "source": [
        "# 3. Encodage des variables catégorielles\n",
        "# Encodage One-Hot pour transformer les colonnes catégorielles en format numérique\n",
        "data = pd.get_dummies(data, drop_first=True)"
      ],
      "metadata": {
        "id": "iym8kac1Gv75"
      },
      "execution_count": 71,
      "outputs": []
    },
    {
      "cell_type": "code",
      "source": [
        "# Vérification\n",
        "print(data.isnull().sum())\n",
        "data.dtypes"
      ],
      "metadata": {
        "colab": {
          "base_uri": "https://localhost:8080/"
        },
        "id": "hC170-t-G04Q",
        "outputId": "8c4b2bcb-71ea-4108-f7d1-3496351de2c3"
      },
      "execution_count": 72,
      "outputs": [
        {
          "output_type": "stream",
          "name": "stdout",
          "text": [
            "id_client                          0\n",
            "contract_type                      0\n",
            "annual_flux                        0\n",
            "target                             0\n",
            "job_category_1071                  0\n",
            "                                  ..\n",
            "risk_of_credit_XXXX                0\n",
            "credit_flux_0 a 70% de flux        0\n",
            "credit_flux_Inconnu                0\n",
            "credit_flux_Pas de flux            0\n",
            "credit_flux_Plus de 70% de flux    0\n",
            "Length: 659, dtype: int64\n"
          ]
        },
        {
          "output_type": "execute_result",
          "data": {
            "text/plain": [
              "id_client                            int64\n",
              "contract_type                        int64\n",
              "annual_flux                        float64\n",
              "target                               int64\n",
              "job_category_1071                    uint8\n",
              "                                    ...   \n",
              "risk_of_credit_XXXX                  uint8\n",
              "credit_flux_0 a 70% de flux          uint8\n",
              "credit_flux_Inconnu                  uint8\n",
              "credit_flux_Pas de flux              uint8\n",
              "credit_flux_Plus de 70% de flux      uint8\n",
              "Length: 659, dtype: object"
            ]
          },
          "metadata": {},
          "execution_count": 72
        }
      ]
    },
    {
      "cell_type": "code",
      "source": [
        "# 5.  Division du dataset\n",
        "\n",
        "X = data.drop('target', axis=1)\n",
        "y = data['target']\n",
        "\n",
        "X_train, X_test, y_train, y_test = train_test_split(X, y, test_size=0.25, random_state=42)\n",
        "X.to_csv('train.csv', index=False)\n",
        "y.to_csv('test.csv', index=False)"
      ],
      "metadata": {
        "id": "-apEV6qbG_1E"
      },
      "execution_count": 73,
      "outputs": []
    },
    {
      "cell_type": "code",
      "source": [
        "# 6.  Utilisation de SMOTE pour équilibrer les classes\n",
        "print(\"Distribution des classes avant SMOTE :\")\n",
        "print(y_train.value_counts())"
      ],
      "metadata": {
        "colab": {
          "base_uri": "https://localhost:8080/"
        },
        "id": "QKVyIuppLavg",
        "outputId": "e60734f3-0ca7-454b-8596-8f9c22d3dec8"
      },
      "execution_count": 74,
      "outputs": [
        {
          "output_type": "stream",
          "name": "stdout",
          "text": [
            "Distribution des classes avant SMOTE :\n",
            "0    14235\n",
            "1     1387\n",
            "Name: target, dtype: int64\n"
          ]
        }
      ]
    },
    {
      "cell_type": "code",
      "source": [
        "smote = SMOTE(random_state=42)\n",
        "X_train_smote, y_train_smote = smote.fit_resample(X_train, y_train)"
      ],
      "metadata": {
        "id": "vQT0o6AWHHbz"
      },
      "execution_count": 75,
      "outputs": []
    },
    {
      "cell_type": "code",
      "source": [
        "print(\"Distribution des classes après SMOTE :\")\n",
        "print(y_train_smote.value_counts())"
      ],
      "metadata": {
        "colab": {
          "base_uri": "https://localhost:8080/"
        },
        "id": "oSdJl0gZLXcj",
        "outputId": "c91b7065-d0c3-4de0-ecac-4d02352db9fe"
      },
      "execution_count": 76,
      "outputs": [
        {
          "output_type": "stream",
          "name": "stdout",
          "text": [
            "Distribution des classes après SMOTE :\n",
            "0    14235\n",
            "1    14235\n",
            "Name: target, dtype: int64\n"
          ]
        }
      ]
    },
    {
      "cell_type": "markdown",
      "source": [
        "# 3. Modélisation et performance\n",
        "\n"
      ],
      "metadata": {
        "id": "6hsFaUE1Qfmy"
      }
    },
    {
      "cell_type": "code",
      "source": [
        "# Choix du modèle : XGBoost avec des hyperparamètres de base\n",
        "\n",
        "#clf = RandomForestClassifier(random_state=42)\n",
        "#clf.fit(X_train_smote, y_train_smote)\n",
        "\n",
        "#clf = XGBClassifier(random_state=42)\n",
        "#clf.fit(X_train_smote, y_train_smote)\n",
        "\n",
        "\n",
        "ratio = float(np.sum(y_train == 0)) / np.sum(y_train == 1)  # ratio of negative to positive samples\n",
        "\n",
        "clf_xgb = xgb.XGBClassifier(\n",
        "    scale_pos_weight=ratio,\n",
        "    objective='binary:logistic',\n",
        "    eval_metric='auc',\n",
        "    use_label_encoder=False\n",
        ")"
      ],
      "metadata": {
        "id": "qN4kDEttNlo9"
      },
      "execution_count": 85,
      "outputs": []
    },
    {
      "cell_type": "code",
      "source": [
        "clf_xgb.fit(X_train_smote, y_train_smote)"
      ],
      "metadata": {
        "colab": {
          "base_uri": "https://localhost:8080/",
          "height": 248
        },
        "id": "BgbYx0dsODgH",
        "outputId": "50cc421a-f8a1-493b-8f29-11942288e06b"
      },
      "execution_count": 86,
      "outputs": [
        {
          "output_type": "execute_result",
          "data": {
            "text/plain": [
              "XGBClassifier(base_score=None, booster=None, callbacks=None,\n",
              "              colsample_bylevel=None, colsample_bynode=None,\n",
              "              colsample_bytree=None, device=None, early_stopping_rounds=None,\n",
              "              enable_categorical=False, eval_metric='auc', feature_types=None,\n",
              "              gamma=None, grow_policy=None, importance_type=None,\n",
              "              interaction_constraints=None, learning_rate=None, max_bin=None,\n",
              "              max_cat_threshold=None, max_cat_to_onehot=None,\n",
              "              max_delta_step=None, max_depth=None, max_leaves=None,\n",
              "              min_child_weight=None, missing=nan, monotone_constraints=None,\n",
              "              multi_strategy=None, n_estimators=None, n_jobs=None,\n",
              "              num_parallel_tree=None, random_state=None, ...)"
            ],
            "text/html": [
              "<style>#sk-container-id-4 {color: black;background-color: white;}#sk-container-id-4 pre{padding: 0;}#sk-container-id-4 div.sk-toggleable {background-color: white;}#sk-container-id-4 label.sk-toggleable__label {cursor: pointer;display: block;width: 100%;margin-bottom: 0;padding: 0.3em;box-sizing: border-box;text-align: center;}#sk-container-id-4 label.sk-toggleable__label-arrow:before {content: \"▸\";float: left;margin-right: 0.25em;color: #696969;}#sk-container-id-4 label.sk-toggleable__label-arrow:hover:before {color: black;}#sk-container-id-4 div.sk-estimator:hover label.sk-toggleable__label-arrow:before {color: black;}#sk-container-id-4 div.sk-toggleable__content {max-height: 0;max-width: 0;overflow: hidden;text-align: left;background-color: #f0f8ff;}#sk-container-id-4 div.sk-toggleable__content pre {margin: 0.2em;color: black;border-radius: 0.25em;background-color: #f0f8ff;}#sk-container-id-4 input.sk-toggleable__control:checked~div.sk-toggleable__content {max-height: 200px;max-width: 100%;overflow: auto;}#sk-container-id-4 input.sk-toggleable__control:checked~label.sk-toggleable__label-arrow:before {content: \"▾\";}#sk-container-id-4 div.sk-estimator input.sk-toggleable__control:checked~label.sk-toggleable__label {background-color: #d4ebff;}#sk-container-id-4 div.sk-label input.sk-toggleable__control:checked~label.sk-toggleable__label {background-color: #d4ebff;}#sk-container-id-4 input.sk-hidden--visually {border: 0;clip: rect(1px 1px 1px 1px);clip: rect(1px, 1px, 1px, 1px);height: 1px;margin: -1px;overflow: hidden;padding: 0;position: absolute;width: 1px;}#sk-container-id-4 div.sk-estimator {font-family: monospace;background-color: #f0f8ff;border: 1px dotted black;border-radius: 0.25em;box-sizing: border-box;margin-bottom: 0.5em;}#sk-container-id-4 div.sk-estimator:hover {background-color: #d4ebff;}#sk-container-id-4 div.sk-parallel-item::after {content: \"\";width: 100%;border-bottom: 1px solid gray;flex-grow: 1;}#sk-container-id-4 div.sk-label:hover label.sk-toggleable__label {background-color: #d4ebff;}#sk-container-id-4 div.sk-serial::before {content: \"\";position: absolute;border-left: 1px solid gray;box-sizing: border-box;top: 0;bottom: 0;left: 50%;z-index: 0;}#sk-container-id-4 div.sk-serial {display: flex;flex-direction: column;align-items: center;background-color: white;padding-right: 0.2em;padding-left: 0.2em;position: relative;}#sk-container-id-4 div.sk-item {position: relative;z-index: 1;}#sk-container-id-4 div.sk-parallel {display: flex;align-items: stretch;justify-content: center;background-color: white;position: relative;}#sk-container-id-4 div.sk-item::before, #sk-container-id-4 div.sk-parallel-item::before {content: \"\";position: absolute;border-left: 1px solid gray;box-sizing: border-box;top: 0;bottom: 0;left: 50%;z-index: -1;}#sk-container-id-4 div.sk-parallel-item {display: flex;flex-direction: column;z-index: 1;position: relative;background-color: white;}#sk-container-id-4 div.sk-parallel-item:first-child::after {align-self: flex-end;width: 50%;}#sk-container-id-4 div.sk-parallel-item:last-child::after {align-self: flex-start;width: 50%;}#sk-container-id-4 div.sk-parallel-item:only-child::after {width: 0;}#sk-container-id-4 div.sk-dashed-wrapped {border: 1px dashed gray;margin: 0 0.4em 0.5em 0.4em;box-sizing: border-box;padding-bottom: 0.4em;background-color: white;}#sk-container-id-4 div.sk-label label {font-family: monospace;font-weight: bold;display: inline-block;line-height: 1.2em;}#sk-container-id-4 div.sk-label-container {text-align: center;}#sk-container-id-4 div.sk-container {/* jupyter's `normalize.less` sets `[hidden] { display: none; }` but bootstrap.min.css set `[hidden] { display: none !important; }` so we also need the `!important` here to be able to override the default hidden behavior on the sphinx rendered scikit-learn.org. See: https://github.com/scikit-learn/scikit-learn/issues/21755 */display: inline-block !important;position: relative;}#sk-container-id-4 div.sk-text-repr-fallback {display: none;}</style><div id=\"sk-container-id-4\" class=\"sk-top-container\"><div class=\"sk-text-repr-fallback\"><pre>XGBClassifier(base_score=None, booster=None, callbacks=None,\n",
              "              colsample_bylevel=None, colsample_bynode=None,\n",
              "              colsample_bytree=None, device=None, early_stopping_rounds=None,\n",
              "              enable_categorical=False, eval_metric=&#x27;auc&#x27;, feature_types=None,\n",
              "              gamma=None, grow_policy=None, importance_type=None,\n",
              "              interaction_constraints=None, learning_rate=None, max_bin=None,\n",
              "              max_cat_threshold=None, max_cat_to_onehot=None,\n",
              "              max_delta_step=None, max_depth=None, max_leaves=None,\n",
              "              min_child_weight=None, missing=nan, monotone_constraints=None,\n",
              "              multi_strategy=None, n_estimators=None, n_jobs=None,\n",
              "              num_parallel_tree=None, random_state=None, ...)</pre><b>In a Jupyter environment, please rerun this cell to show the HTML representation or trust the notebook. <br />On GitHub, the HTML representation is unable to render, please try loading this page with nbviewer.org.</b></div><div class=\"sk-container\" hidden><div class=\"sk-item\"><div class=\"sk-estimator sk-toggleable\"><input class=\"sk-toggleable__control sk-hidden--visually\" id=\"sk-estimator-id-4\" type=\"checkbox\" checked><label for=\"sk-estimator-id-4\" class=\"sk-toggleable__label sk-toggleable__label-arrow\">XGBClassifier</label><div class=\"sk-toggleable__content\"><pre>XGBClassifier(base_score=None, booster=None, callbacks=None,\n",
              "              colsample_bylevel=None, colsample_bynode=None,\n",
              "              colsample_bytree=None, device=None, early_stopping_rounds=None,\n",
              "              enable_categorical=False, eval_metric=&#x27;auc&#x27;, feature_types=None,\n",
              "              gamma=None, grow_policy=None, importance_type=None,\n",
              "              interaction_constraints=None, learning_rate=None, max_bin=None,\n",
              "              max_cat_threshold=None, max_cat_to_onehot=None,\n",
              "              max_delta_step=None, max_depth=None, max_leaves=None,\n",
              "              min_child_weight=None, missing=nan, monotone_constraints=None,\n",
              "              multi_strategy=None, n_estimators=None, n_jobs=None,\n",
              "              num_parallel_tree=None, random_state=None, ...)</pre></div></div></div></div></div>"
            ]
          },
          "metadata": {},
          "execution_count": 86
        }
      ]
    },
    {
      "cell_type": "code",
      "source": [
        "y_pred_xgb = clf_xgb.predict(X_test)\n",
        "cm=confusion_matrix(y_test, y_pred_xgb)\n",
        "print(confusion_matrix(y_test, y_pred_xgb))\n",
        "print(classification_report(y_test, y_pred_xgb))\n",
        "print(\"AUC-ROC:\", roc_auc_score(y_test, y_pred_xgb))"
      ],
      "metadata": {
        "colab": {
          "base_uri": "https://localhost:8080/"
        },
        "id": "5b99tQttOMvj",
        "outputId": "dc462f63-05e5-4749-bab3-e5c61e7aad20"
      },
      "execution_count": 89,
      "outputs": [
        {
          "output_type": "stream",
          "name": "stdout",
          "text": [
            "[[3948  795]\n",
            " [  98  367]]\n",
            "              precision    recall  f1-score   support\n",
            "\n",
            "           0       0.98      0.83      0.90      4743\n",
            "           1       0.32      0.79      0.45       465\n",
            "\n",
            "    accuracy                           0.83      5208\n",
            "   macro avg       0.65      0.81      0.67      5208\n",
            "weighted avg       0.92      0.83      0.86      5208\n",
            "\n",
            "AUC-ROC: 0.8108159392789374\n"
          ]
        }
      ]
    },
    {
      "cell_type": "code",
      "source": [
        "# Sauvegarde des prédictions\n",
        "predictions_df = pd.DataFrame(y_pred_xbg, columns=['prediction'])\n",
        "predictions_df.to_csv('predictions.csv', index=False)"
      ],
      "metadata": {
        "id": "2OqWHsERQpIZ"
      },
      "execution_count": null,
      "outputs": []
    },
    {
      "cell_type": "markdown",
      "source": [],
      "metadata": {
        "id": "Z2TewOXMLXA0"
      }
    },
    {
      "cell_type": "code",
      "source": [
        "# Sauvegarde de la matrice de confusion\n",
        "confusion_df = pd.DataFrame(cm)\n",
        "confusion_df.to_csv('confusion_matrix.csv', index=False)"
      ],
      "metadata": {
        "id": "iVYbgm77RG1q"
      },
      "execution_count": 90,
      "outputs": []
    }
  ]
}